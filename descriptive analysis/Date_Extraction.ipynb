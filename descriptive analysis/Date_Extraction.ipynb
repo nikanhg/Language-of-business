{
 "cells": [
  {
   "cell_type": "code",
   "execution_count": 1,
   "id": "674f52dd",
   "metadata": {},
   "outputs": [],
   "source": [
    "import pandas as pd\n",
    "from datetime import datetime, timedelta\n",
    "import os"
   ]
  },
  {
   "cell_type": "markdown",
   "id": "bec85fcd",
   "metadata": {},
   "source": [
    "# Microsoft"
   ]
  },
  {
   "cell_type": "code",
   "execution_count": 2,
   "id": "784f93ea",
   "metadata": {},
   "outputs": [],
   "source": [
    "directory_path_microsoft='Microsoft'"
   ]
  },
  {
   "cell_type": "code",
   "execution_count": 3,
   "id": "f79bb137",
   "metadata": {},
   "outputs": [],
   "source": [
    "microsoft_disclosure_dates={\n",
    "    '2018.csv':'2018-08-03',\n",
    "    '2019.csv':'2019-08-01',\n",
    "    '2020.csv':'2020-07-31',\n",
    "    '2021.csv':'2021-07-21',\n",
    "    '2022.csv':'2022-07-28'\n",
    "}"
   ]
  },
  {
   "cell_type": "code",
   "execution_count": 4,
   "id": "f81ec424",
   "metadata": {},
   "outputs": [],
   "source": [
    "csv_files_msft = [file_msft for file_msft in os.listdir(directory_path_microsoft) if file_msft.endswith('.csv')]"
   ]
  },
  {
   "cell_type": "code",
   "execution_count": 5,
   "id": "18cc7f80",
   "metadata": {},
   "outputs": [],
   "source": [
    "\n",
    "for file_msft in csv_files_msft:\n",
    "    file_path_msft = os.path.join(directory_path_microsoft, file_msft)\n",
    "    microsoft = pd.read_csv(file_path_msft)\n",
    "    microsoft['Date'] = pd.to_datetime(microsoft['Date'])\n",
    "\n",
    "    d_date_str = microsoft_disclosure_dates.get(file_msft, '2023-01-01')  # Default to '2023-01-01' if not found\n",
    "    d_date = datetime.strptime(d_date_str, '%Y-%m-%d')\n",
    "\n",
    "    start_date = d_date - timedelta(days=30)\n",
    "    end_date = d_date + timedelta(days=30)\n",
    "\n",
    "    filtered_microsoft = microsoft[(microsoft['Date'] >= start_date) & (microsoft['Date'] <= end_date)]\n",
    "\n",
    "    filtered_microsoft_file_path = os.path.join(directory_path_microsoft, f'MSFT_{file_msft}')\n",
    "    filtered_microsoft.to_csv(filtered_microsoft_file_path, index=False)\n"
   ]
  },
  {
   "cell_type": "markdown",
   "id": "dc90b6a4",
   "metadata": {},
   "source": [
    "# Amazon"
   ]
  },
  {
   "cell_type": "code",
   "execution_count": 6,
   "id": "027eb302",
   "metadata": {},
   "outputs": [],
   "source": [
    "directory_path_amzn='Amazon'"
   ]
  },
  {
   "cell_type": "code",
   "execution_count": 7,
   "id": "1d240e98",
   "metadata": {},
   "outputs": [],
   "source": [
    "amazon_disclosure_dates={\n",
    "    '2018.csv':'2018-02-02',\n",
    "    '2019.csv':'2019-02-01',\n",
    "    '2020.csv':'2020-01-31',\n",
    "    '2021.csv':'2021-02-03',\n",
    "    '2022.csv':'2022-02-04'\n",
    "}"
   ]
  },
  {
   "cell_type": "code",
   "execution_count": 8,
   "id": "b4bac83c",
   "metadata": {},
   "outputs": [],
   "source": [
    "csv_files_amzn = [file_amzn for file_amzn in os.listdir(directory_path_amzn) if file_amzn.endswith('.csv')]"
   ]
  },
  {
   "cell_type": "code",
   "execution_count": 9,
   "id": "2a2ebddd",
   "metadata": {},
   "outputs": [],
   "source": [
    "for file_amzn in csv_files_amzn:\n",
    "    file_path_amzn = os.path.join(directory_path_amzn, file_amzn)\n",
    "    amazon = pd.read_csv(file_path_amzn)\n",
    "    amazon['Date'] = pd.to_datetime(amazon['Date'])\n",
    "\n",
    "    d_date_str = amazon_disclosure_dates.get(file_amzn, '2023-01-01')  # Default to '2023-01-01' if not found\n",
    "    d_date = datetime.strptime(d_date_str, '%Y-%m-%d')\n",
    "\n",
    "    start_date = d_date - timedelta(days=30)\n",
    "    end_date = d_date + timedelta(days=30)\n",
    "\n",
    "    filtered_amazon = amazon[(amazon['Date'] >= start_date) & (amazon['Date'] <= end_date)]\n",
    "\n",
    "    filtered_amazon_file_path = os.path.join(directory_path_amzn, f'AMZN_{file_amzn}')\n",
    "    filtered_amazon.to_csv(filtered_amazon_file_path, index=False)\n"
   ]
  },
  {
   "cell_type": "markdown",
   "id": "01579143",
   "metadata": {},
   "source": [
    "# Meta\n"
   ]
  },
  {
   "cell_type": "code",
   "execution_count": 10,
   "id": "56e2574f",
   "metadata": {},
   "outputs": [],
   "source": [
    "directory_path_meta='Meta Platforms'"
   ]
  },
  {
   "cell_type": "code",
   "execution_count": 16,
   "id": "8c79a3c7",
   "metadata": {},
   "outputs": [],
   "source": [
    "meta_disclosure_dates={\n",
    "    '2018.csv':'2018-02-01',\n",
    "    '2019.csv':'2019-01-31',\n",
    "    '2020.csv':'2020-01-30',\n",
    "    '2021.csv':'2021-01-28',\n",
    "    '2022.csv':'2022-02-03'\n",
    "}"
   ]
  },
  {
   "cell_type": "code",
   "execution_count": 17,
   "id": "851a2f73",
   "metadata": {},
   "outputs": [],
   "source": [
    "csv_files_meta = [file_meta for file_meta in os.listdir(directory_path_meta) if file_meta.endswith('.csv')]"
   ]
  },
  {
   "cell_type": "code",
   "execution_count": 18,
   "id": "60fea5b3",
   "metadata": {},
   "outputs": [],
   "source": [
    "for file_meta in csv_files_meta:\n",
    "    file_path_meta = os.path.join(directory_path_meta, file_meta)\n",
    "    meta = pd.read_csv(file_path_meta)\n",
    "    meta['Date'] = pd.to_datetime(meta['Date'])\n",
    "\n",
    "    d_date_str = meta_disclosure_dates.get(file_meta, '2023-01-01')  # Default to '2023-01-01' if not found\n",
    "    d_date = datetime.strptime(d_date_str, '%Y-%m-%d')\n",
    "\n",
    "    start_date = d_date - timedelta(days=30)\n",
    "    end_date = d_date + timedelta(days=30)\n",
    "\n",
    "    filtered_meta = meta[(meta['Date'] >= start_date) & (meta['Date'] <= end_date)]\n",
    "\n",
    "    filtered_meta_file_path = os.path.join(directory_path_meta, f'META_{file_meta}')\n",
    "    filtered_meta.to_csv(filtered_meta_file_path, index=False)\n"
   ]
  },
  {
   "cell_type": "markdown",
   "id": "02cc28e8",
   "metadata": {},
   "source": [
    "# Bank of New York Mellon"
   ]
  },
  {
   "cell_type": "code",
   "execution_count": 31,
   "id": "621f8e4c",
   "metadata": {},
   "outputs": [],
   "source": [
    "directory_path_bk='Bank of New York Mellon'"
   ]
  },
  {
   "cell_type": "code",
   "execution_count": 32,
   "id": "1950924f",
   "metadata": {},
   "outputs": [],
   "source": [
    "bk_disclosure_dates={\n",
    "    '2018.csv':'2018-02-28',\n",
    "    '2019.csv':'2019-02-27',\n",
    "    '2020.csv':'2020-02-27',\n",
    "    '2021.csv':'2021-02-25',\n",
    "    '2022.csv':'2022-02-25'\n",
    "}"
   ]
  },
  {
   "cell_type": "code",
   "execution_count": 33,
   "id": "4a07c413",
   "metadata": {},
   "outputs": [],
   "source": [
    "csv_files_bk = [file_bk for file_bk in os.listdir(directory_path_bk) if file_bk.endswith('.csv')]"
   ]
  },
  {
   "cell_type": "code",
   "execution_count": 34,
   "id": "5a5bc0c2",
   "metadata": {},
   "outputs": [],
   "source": [
    "for file_bk in csv_files_bk:\n",
    "    file_path_bk = os.path.join(directory_path_bk, file_bk)\n",
    "    bk = pd.read_csv(file_path_bk)\n",
    "    bk['Date'] = pd.to_datetime(bk['Date'])\n",
    "\n",
    "    d_date_str = bk_disclosure_dates.get(file_bk, '2023-01-01')  # Default to '2023-01-01' if not found\n",
    "    d_date = datetime.strptime(d_date_str, '%Y-%m-%d')\n",
    "\n",
    "    start_date = d_date - timedelta(days=30)\n",
    "    end_date = d_date + timedelta(days=30)\n",
    "\n",
    "    filtered_bk = bk[(bk['Date'] >= start_date) & (bk['Date'] <= end_date)]\n",
    "\n",
    "    filtered_bk_file_path = os.path.join(directory_path_bk, f'BK_{file_bk}')\n",
    "    filtered_bk.to_csv(filtered_bk_file_path, index=False)\n"
   ]
  },
  {
   "cell_type": "markdown",
   "id": "b3a82af4",
   "metadata": {},
   "source": [
    "# Kimberly - Clark\n"
   ]
  },
  {
   "cell_type": "code",
   "execution_count": 35,
   "id": "a18b3ee9",
   "metadata": {},
   "outputs": [],
   "source": [
    "directory_path_kc='Kimberly Clark'"
   ]
  },
  {
   "cell_type": "code",
   "execution_count": 36,
   "id": "8e635fc8",
   "metadata": {},
   "outputs": [],
   "source": [
    "kc_disclosure_dates={\n",
    "    '2018.csv':'2018-02-08',\n",
    "    '2019.csv':'2019-02-07',\n",
    "    '2020.csv':'2020-02-13',\n",
    "    '2021.csv':'2021-02-11',\n",
    "    '2022.csv':'2022-02-10'\n",
    "}"
   ]
  },
  {
   "cell_type": "code",
   "execution_count": 38,
   "id": "5a4c05e5",
   "metadata": {},
   "outputs": [],
   "source": [
    "csv_files_kc = [file_kc for file_kc in os.listdir(directory_path_kc) if file_kc.endswith('.csv')]"
   ]
  },
  {
   "cell_type": "code",
   "execution_count": 40,
   "id": "a6d5249e",
   "metadata": {},
   "outputs": [],
   "source": [
    "for file_kc in csv_files_kc:\n",
    "    file_path_kc = os.path.join(directory_path_kc, file_kc)\n",
    "    kc = pd.read_csv(file_path_kc)\n",
    "    kc['Date'] = pd.to_datetime(kc['Date'])\n",
    "\n",
    "    d_date_str = kc_disclosure_dates.get(file_kc, '2023-01-01')  # Default to '2023-01-01' if not found\n",
    "    d_date = datetime.strptime(d_date_str, '%Y-%m-%d')\n",
    "\n",
    "    start_date = d_date - timedelta(days=30)\n",
    "    end_date = d_date + timedelta(days=30)\n",
    "\n",
    "    filtered_kc = kc[(kc['Date'] >= start_date) & (kc['Date'] <= end_date)]\n",
    "\n",
    "    filtered_kc_file_path = os.path.join(directory_path_kc, f'KC_{file_kc}')\n",
    "    filtered_kc.to_csv(filtered_kc_file_path, index=False)\n"
   ]
  },
  {
   "cell_type": "markdown",
   "id": "579315cf",
   "metadata": {},
   "source": [
    "# Crocs"
   ]
  },
  {
   "cell_type": "code",
   "execution_count": 41,
   "id": "81ea4fd8",
   "metadata": {},
   "outputs": [],
   "source": [
    "directory_path = 'Crocs'"
   ]
  },
  {
   "cell_type": "code",
   "execution_count": 46,
   "id": "e7d83d8a",
   "metadata": {},
   "outputs": [],
   "source": [
    "crocs_disclosure_dates = {\n",
    "    '2018.csv': '2018-03-20',\n",
    "    '2019.csv': '2019-02-28',\n",
    "    '2020.csv': '2020-02-27',\n",
    "    '2021.csv': '2021-02-23',\n",
    "    '2022.csv': '2022-02-16'\n",
    "}"
   ]
  },
  {
   "cell_type": "code",
   "execution_count": 47,
   "id": "1e55306a",
   "metadata": {},
   "outputs": [],
   "source": [
    "csv_files = [file for file in os.listdir(directory_path) if file.endswith('.csv')]"
   ]
  },
  {
   "cell_type": "code",
   "execution_count": 48,
   "id": "61eda6e8",
   "metadata": {},
   "outputs": [],
   "source": [
    "for file in csv_files:\n",
    "    file_path = os.path.join(directory_path, file)\n",
    "    crocs = pd.read_csv(file_path)\n",
    "    crocs['Date'] = pd.to_datetime(crocs['Date'])\n",
    "\n",
    "    d_date_str = crocs_disclosure_dates.get(file, '2023-01-01')  # Default to '2023-01-01' if not found\n",
    "    d_date = datetime.strptime(d_date_str, '%Y-%m-%d')\n",
    "\n",
    "    start_date = d_date - timedelta(days=30)\n",
    "    end_date = d_date + timedelta(days=30)\n",
    "\n",
    "    filtered_crocs = crocs[(crocs['Date'] >= start_date) & (crocs['Date'] <= end_date)]\n",
    "\n",
    "    filtered_crocs_file_path = os.path.join(directory_path, f'Crocs_{file}')\n",
    "    filtered_crocs.to_csv(filtered_crocs_file_path, index=False)\n"
   ]
  },
  {
   "cell_type": "code",
   "execution_count": null,
   "id": "b3a63210",
   "metadata": {},
   "outputs": [],
   "source": []
  }
 ],
 "metadata": {
  "kernelspec": {
   "display_name": "Python 3 (ipykernel)",
   "language": "python",
   "name": "python3"
  },
  "language_info": {
   "codemirror_mode": {
    "name": "ipython",
    "version": 3
   },
   "file_extension": ".py",
   "mimetype": "text/x-python",
   "name": "python",
   "nbconvert_exporter": "python",
   "pygments_lexer": "ipython3",
   "version": "3.10.9"
  }
 },
 "nbformat": 4,
 "nbformat_minor": 5
}
